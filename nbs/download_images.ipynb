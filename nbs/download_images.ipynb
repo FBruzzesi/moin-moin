{
 "cells": [
  {
   "cell_type": "markdown",
   "id": "e84695ff-c562-4ba6-a503-3d15059aea89",
   "metadata": {},
   "source": [
    "## Create test dataset\n",
    "The goal in this notebook is to create a proper test dataset evaluate the model."
   ]
  },
  {
   "cell_type": "code",
   "execution_count": 1,
   "id": "2175888a-60d9-464b-afdc-0bd40540726d",
   "metadata": {},
   "outputs": [],
   "source": [
    "from fastbook import *"
   ]
  },
  {
   "cell_type": "code",
   "execution_count": 2,
   "id": "75dd07e1-2e5b-4665-a61c-ac4a9d72ec9a",
   "metadata": {},
   "outputs": [
    {
     "data": {
      "text/plain": [
       "(#2) [Path('download_images.ipynb'),Path('.ipynb_checkpoints')]"
      ]
     },
     "execution_count": 2,
     "metadata": {},
     "output_type": "execute_result"
    }
   ],
   "source": [
    "path = Path(\".\")\n",
    "path.ls()"
   ]
  },
  {
   "cell_type": "code",
   "execution_count": 35,
   "id": "cc07cd7b-4a5c-41c2-b63c-7622f2ad9882",
   "metadata": {},
   "outputs": [],
   "source": [
    "categories = (\n",
    "\"damaged swings\",\n",
    "\"damaged benches in park\",\n",
    "\"potholes and road damage\",\n",
    "\"damaged sidewalks\",\n",
    "\"cracked sidewalks\",\n",
    "\"missing ramp\",\n",
    "\"cracked or uneven road surfaces\",\n",
    "\"bumpy road\",\n",
    "\"broken traffic signals\",\n",
    "\"non-functional traffic lights\",\n",
    "\"malfunctioning pedestrian signals\",\n",
    "\"illegal dumping\",\n",
    "\"dirty public space\",\n",
    "\"broken windows\",\n",
    "\"vandalism\",\n",
    "\"graffiti\",\n",
    "\"cracked, uneven, or broken sidewalks\",\n",
    "\"public transportation issues\",\n",
    "\"poorly maintained bus stops\",\n",
    "\"structural damage or corrosion on bridges\",\n",
    "\"drainage problems\",\n",
    "\"clogged storm drains\",\n",
    "\"poor drainage design\",\n",
    "\"signage issues\",\n",
    "\"faded or missing road signs\",\n",
    "\"inadequate directional signage\",\n",
    "\"malfunctioning gates or lights at railway crossings\",\n",
    "\"lack of clear markings or signage indicating railway crossings\",\n",
    "\"bike lanes and paths:\",\n",
    "\"poorly marked or maintained bike lanes\",\n",
    "\"obstructed bike lanes\",\n",
    "\"damaged gas lines\",\n",
    "\"damaged water pipes\",\n",
    ")"
   ]
  },
  {
   "cell_type": "code",
   "execution_count": 36,
   "id": "52c45411-10d7-4cf1-87dc-da869a894424",
   "metadata": {},
   "outputs": [],
   "source": [
    "n_download = 30"
   ]
  },
  {
   "cell_type": "code",
   "execution_count": 41,
   "id": "2976447d-057c-4902-b229-dd920c910b5f",
   "metadata": {},
   "outputs": [],
   "source": [
    "images_path = mkdir(path/\"images\", exist_ok=True)\n",
    "data = {cat: defaultdict() for cat in categories}\n",
    "for cat in categories:\n",
    "    dest_dir = images_path/cat.replace(\" \", \"-\")\n",
    "    data[cat][\"path\"] = mkdir(dest_dir, parents=True, overwrite=True)\n",
    "    data[cat][\"urls\"] = search_images_ddg(f\"{cat}\", n_download)"
   ]
  },
  {
   "cell_type": "code",
   "execution_count": 38,
   "id": "7942c96a-af00-41d6-8188-4ef6ec8132ac",
   "metadata": {},
   "outputs": [
    {
     "data": {
      "text/plain": [
       "(#30) ['https://thumbs.dreamstime.com/b/old-blue-plastic-water-pipes-deteriorated-damaged-building-background-dirty-vintage-copy-space-home-office-248178485.jpg','https://waterextractionexperts.com/wp-content/uploads/2018/02/Broken-Frozen-Pipe-Longmont-Colo-768x1024.png','https://images.propertycasualty360.com/contrib/content/uploads/sites/414/2020/05/Water-pipe-Shutterstock.jpg','https://thumbs.dreamstime.com/b/damaged-water-pipe-being-repaired-made-pvc-plastic-material-broken-242291381.jpg','https://thumbs.dreamstime.com/z/exterior-plumbing-drain-pipes-damaged-water-leaked-over-wall-leads-to-seepage-continuation-to-painted-surface-damages-192741796.jpg','https://www.wmhendersoninc.com/wp-content/uploads/2020/12/Cost-Replace-Broken-Pipe-WM-Henderson-Photo.jpg','https://www.bluefieldresearch.com/wp-content/uploads/2018/02/iStock-845980958.jpg','https://image.shutterstock.com/image-vector/illustration-damaged-water-pipe-260nw-2200296515.jpg','https://rtolsonplumbing.com/wp-content/uploads/2019/05/hard-water-damage-to-copper-plumbing-pipes-geo.jpg','https://www.westfortworthplumbing.com/site/wp-content/uploads/98841680-1024x1024.jpg'...]"
      ]
     },
     "execution_count": 38,
     "metadata": {},
     "output_type": "execute_result"
    }
   ],
   "source": [
    "data[cat][\"urls\"]"
   ]
  },
  {
   "cell_type": "code",
   "execution_count": 20,
   "id": "7df75777-f379-41ee-b89e-aee8cd6fe051",
   "metadata": {},
   "outputs": [],
   "source": [
    "def resize_imgs_cat(cat):\n",
    "    imgs = [(fn, load_image(fn).resize((240,240))) for fn in get_image_files(data[cat][\"path\"])]\n",
    "    assert imgs, \"No images found!\"\n",
    "    failed = []\n",
    "    for fn, img in imgs:\n",
    "        try:\n",
    "            img.save(data[cat][\"path\"]/f\"resized_{fn.name}\")\n",
    "        except Exception as e:\n",
    "            print(e)\n",
    "            failed.append(fn)\n",
    "    return failed"
   ]
  },
  {
   "cell_type": "code",
   "execution_count": 39,
   "id": "48f9c16f-07f3-484f-9218-cfaa358880cf",
   "metadata": {},
   "outputs": [],
   "source": [
    "def rm(fns: list[Path]):\n",
    "    for fn in failed: fn.unlink()"
   ]
  },
  {
   "cell_type": "code",
   "execution_count": 42,
   "id": "bc3ab470-1d3f-4893-991a-e19a2dcdb6c6",
   "metadata": {},
   "outputs": [
    {
     "name": "stdout",
     "output_type": "stream",
     "text": [
      "damaged swings: removing 0 images\n",
      "damaged benches in park: removing 0 images\n",
      "potholes and road damage: removing 1 images\n",
      "damaged sidewalks: removing 5 images\n",
      "cracked sidewalks: removing 0 images\n",
      "missing ramp: removing 6 images\n",
      "cracked or uneven road surfaces: removing 4 images\n",
      "bumpy road: removing 1 images\n",
      "broken traffic signals: removing 1 images\n",
      "non-functional traffic lights: removing 0 images\n",
      "malfunctioning pedestrian signals: removing 1 images\n",
      "illegal dumping: removing 1 images\n",
      "dirty public space: removing 1 images\n",
      "broken windows: removing 0 images\n",
      "vandalism: removing 2 images\n",
      "graffiti: removing 0 images\n",
      "cracked, uneven, or broken sidewalks: removing 0 images\n",
      "public transportation issues: removing 1 images\n",
      "poorly maintained bus stops: removing 3 images\n",
      "structural damage or corrosion on bridges: removing 0 images\n",
      "drainage problems: removing 1 images\n",
      "clogged storm drains: removing 0 images\n",
      "poor drainage design: removing 1 images\n",
      "signage issues: removing 0 images\n",
      "faded or missing road signs: removing 3 images\n",
      "inadequate directional signage: removing 0 images\n",
      "malfunctioning gates or lights at railway crossings: removing 0 images\n",
      "lack of clear markings or signage indicating railway crossings: removing 0 images\n",
      "bike lanes and paths:: removing 1 images\n",
      "poorly marked or maintained bike lanes: removing 3 images\n",
      "obstructed bike lanes: removing 3 images\n",
      "damaged gas lines: removing 1 images\n",
      "damaged water pipes: removing 0 images\n"
     ]
    }
   ],
   "source": [
    "for cat in categories:\n",
    "    dest_dir = data[cat][\"path\"]\n",
    "    download_images(dest_dir, urls=data[cat][\"urls\"])\n",
    "    failed = verify_images(get_image_files(dest_dir))\n",
    "    print(f\"{cat}: removing {len(failed)} images\")\n",
    "    rm(failed)\n",
    "    #failed = resize_imgs_cat(cat)\n",
    "    #print(f\"{cat}: removing {len(failed)} images during resize\")\n",
    "    #rm(failed)"
   ]
  },
  {
   "cell_type": "code",
   "execution_count": null,
   "id": "34a232f8-b63b-4516-89f1-e3f305e2bc47",
   "metadata": {},
   "outputs": [],
   "source": []
  }
 ],
 "metadata": {
  "kernelspec": {
   "display_name": "Python 3 (ipykernel)",
   "language": "python",
   "name": "python3"
  },
  "language_info": {
   "codemirror_mode": {
    "name": "ipython",
    "version": 3
   },
   "file_extension": ".py",
   "mimetype": "text/x-python",
   "name": "python",
   "nbconvert_exporter": "python",
   "pygments_lexer": "ipython3",
   "version": "3.12.3"
  }
 },
 "nbformat": 4,
 "nbformat_minor": 5
}
