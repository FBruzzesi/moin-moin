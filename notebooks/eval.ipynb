{
 "cells": [
  {
   "cell_type": "code",
   "execution_count": null,
   "id": "91295772-72a1-4773-803b-8980be3ee6c3",
   "metadata": {},
   "outputs": [],
   "source": [
    "from pathlib import Path\n",
    "from itertools import batched\n",
    "\n",
    "from PIL import Image\n",
    "import ipyplot\n",
    "from tqdm import tqdm\n",
    "\n",
    "from moin_moin.backend.api import INSTITUTIONS\n",
    "from moin_moin.backend._ml import ClipModel"
   ]
  },
  {
   "cell_type": "code",
   "execution_count": null,
   "id": "91b3e453-40e8-4de3-8e51-77bbd59d54fd",
   "metadata": {},
   "outputs": [],
   "source": [
    "IMGS_PATH = \"./images/new\""
   ]
  },
  {
   "cell_type": "code",
   "execution_count": null,
   "id": "fb8de5cb-a5ef-4ca9-812e-d8d178f4a8b9",
   "metadata": {},
   "outputs": [],
   "source": [
    "model = ClipModel(text_options=INSTITUTIONS)\n",
    "img_paths = tuple(p for p in Path(IMGS_PATH).glob(\"*\"))"
   ]
  },
  {
   "cell_type": "code",
   "execution_count": null,
   "id": "d630fe52",
   "metadata": {},
   "outputs": [],
   "source": [
    "def predict_batch(paths_gen, n: int = 5):\n",
    "    preds = []\n",
    "    for _ in range(n):\n",
    "        p = next(paths_gen)\n",
    "        img = Image.open(p)\n",
    "        preds.append((img, model.predict(img)))\n",
    "    imgs, labels = zip(*preds)\n",
    "    return imgs, labels"
   ]
  },
  {
   "cell_type": "code",
   "execution_count": null,
   "id": "3de84369-eb94-429d-a518-3d59a50cb825",
   "metadata": {},
   "outputs": [],
   "source": [
    "img_paths[:3]"
   ]
  },
  {
   "cell_type": "code",
   "execution_count": null,
   "id": "acd6cb53-2658-4b7a-bed2-53ebb652c2b6",
   "metadata": {},
   "outputs": [],
   "source": [
    "preds = []\n",
    "for p in tqdm(img_paths):\n",
    "    img = Image.open(p)\n",
    "    preds.append((p, model.predict(img)))"
   ]
  },
  {
   "cell_type": "code",
   "execution_count": null,
   "id": "8281a711-8e75-495a-98c6-f17bc1961226",
   "metadata": {},
   "outputs": [],
   "source": [
    "def plot_batch(batch):\n",
    "    imgs, labels = zip(*batch)\n",
    "    ipyplot.plot_images([Image.open(img) for img in imgs], labels, img_width=200)"
   ]
  },
  {
   "cell_type": "code",
   "execution_count": null,
   "id": "3d902892-6761-4092-b9f6-8b632178412e",
   "metadata": {},
   "outputs": [],
   "source": [
    "batches = batched(preds, n=5)"
   ]
  },
  {
   "cell_type": "code",
   "execution_count": null,
   "id": "8da7a710-d4bf-466d-8504-6ff865c24539",
   "metadata": {},
   "outputs": [],
   "source": [
    "plot_batch(next(batches))"
   ]
  }
 ],
 "metadata": {
  "language_info": {
   "name": "python"
  }
 },
 "nbformat": 4,
 "nbformat_minor": 5
}
