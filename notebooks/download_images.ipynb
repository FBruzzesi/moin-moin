{
 "cells": [
  {
   "cell_type": "markdown",
   "id": "e84695ff-c562-4ba6-a503-3d15059aea89",
   "metadata": {},
   "source": [
    "## Create test dataset\n",
    "The goal in this notebook is to create a proper test dataset evaluate the model."
   ]
  },
  {
   "cell_type": "code",
   "execution_count": null,
   "id": "2175888a-60d9-464b-afdc-0bd40540726d",
   "metadata": {},
   "outputs": [],
   "source": [
    "from fastbook import *"
   ]
  },
  {
   "cell_type": "code",
   "execution_count": null,
   "id": "75dd07e1-2e5b-4665-a61c-ac4a9d72ec9a",
   "metadata": {},
   "outputs": [],
   "source": [
    "path = Path(\".\")\n",
    "path.ls()"
   ]
  },
  {
   "cell_type": "code",
   "execution_count": null,
   "id": "cc07cd7b-4a5c-41c2-b63c-7622f2ad9882",
   "metadata": {},
   "outputs": [],
   "source": [
    "categories = (\n",
    "\"damaged swings\",\n",
    "\"damaged benches in park\",\n",
    "\"potholes and road damage\",\n",
    "\"damaged sidewalks\",\n",
    "\"cracked sidewalks\",\n",
    "\"missing ramp\",\n",
    "\"cracked or uneven road surfaces\",\n",
    "\"bumpy road\",\n",
    "\"broken traffic signals\",\n",
    "\"non-functional traffic lights\",\n",
    "\"malfunctioning pedestrian signals\",\n",
    "\"illegal dumping\",\n",
    "\"dirty public space\",\n",
    "\"broken windows\",\n",
    "\"vandalism\",\n",
    "\"graffiti\",\n",
    "\"cracked, uneven, or broken sidewalks\",\n",
    "\"public transportation issues\",\n",
    "\"poorly maintained bus stops\",\n",
    "\"structural damage or corrosion on bridges\",\n",
    "\"drainage problems\",\n",
    "\"clogged storm drains\",\n",
    "\"poor drainage design\",\n",
    "\"signage issues\",\n",
    "\"faded or missing road signs\",\n",
    "\"inadequate directional signage\",\n",
    "\"malfunctioning gates or lights at railway crossings\",\n",
    "\"lack of clear markings or signage indicating railway crossings\",\n",
    "\"bike lanes and paths:\",\n",
    "\"poorly marked or maintained bike lanes\",\n",
    "\"obstructed bike lanes\",\n",
    "\"damaged gas lines\",\n",
    "\"damaged water pipes\",\n",
    ")"
   ]
  },
  {
   "cell_type": "code",
   "execution_count": null,
   "id": "52c45411-10d7-4cf1-87dc-da869a894424",
   "metadata": {},
   "outputs": [],
   "source": [
    "n_download = 30"
   ]
  },
  {
   "cell_type": "code",
   "execution_count": null,
   "id": "2976447d-057c-4902-b229-dd920c910b5f",
   "metadata": {},
   "outputs": [],
   "source": [
    "images_path = mkdir(path/\"images\", exist_ok=True)\n",
    "data = {cat: defaultdict() for cat in categories}\n",
    "for cat in categories:\n",
    "    dest_dir = images_path/cat.replace(\" \", \"-\")\n",
    "    data[cat][\"path\"] = mkdir(dest_dir, parents=True, overwrite=True)\n",
    "    data[cat][\"urls\"] = search_images_ddg(f\"{cat}\", n_download)"
   ]
  },
  {
   "cell_type": "code",
   "execution_count": null,
   "id": "7942c96a-af00-41d6-8188-4ef6ec8132ac",
   "metadata": {},
   "outputs": [],
   "source": [
    "data[cat][\"urls\"]"
   ]
  },
  {
   "cell_type": "code",
   "execution_count": null,
   "id": "7df75777-f379-41ee-b89e-aee8cd6fe051",
   "metadata": {},
   "outputs": [],
   "source": [
    "def resize_imgs_cat(cat):\n",
    "    imgs = [(fn, load_image(fn).resize((240,240))) for fn in get_image_files(data[cat][\"path\"])]\n",
    "    assert imgs, \"No images found!\"\n",
    "    failed = []\n",
    "    for fn, img in imgs:\n",
    "        try:\n",
    "            img.save(data[cat][\"path\"]/f\"resized_{fn.name}\")\n",
    "        except Exception as e:\n",
    "            print(e)\n",
    "            failed.append(fn)\n",
    "    return failed"
   ]
  },
  {
   "cell_type": "code",
   "execution_count": null,
   "id": "48f9c16f-07f3-484f-9218-cfaa358880cf",
   "metadata": {},
   "outputs": [],
   "source": [
    "def rm(fns: list[Path]):\n",
    "    for fn in failed: fn.unlink()"
   ]
  },
  {
   "cell_type": "code",
   "execution_count": null,
   "id": "bc3ab470-1d3f-4893-991a-e19a2dcdb6c6",
   "metadata": {},
   "outputs": [],
   "source": [
    "for cat in categories:\n",
    "    dest_dir = data[cat][\"path\"]\n",
    "    download_images(dest_dir, urls=data[cat][\"urls\"])\n",
    "    failed = verify_images(get_image_files(dest_dir))\n",
    "    print(f\"{cat}: removing {len(failed)} images\")\n",
    "    rm(failed)"
   ]
  }
 ],
 "metadata": {
  "language_info": {
   "name": "python"
  }
 },
 "nbformat": 4,
 "nbformat_minor": 5
}
